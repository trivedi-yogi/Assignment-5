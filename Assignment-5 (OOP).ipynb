{
 "cells": [
  {
   "cell_type": "markdown",
   "id": "bff5ad4d",
   "metadata": {},
   "source": [
    "## Question 1\n",
    "Create You own built-in class method"
   ]
  },
  {
   "cell_type": "code",
   "execution_count": 47,
   "id": "115ca76b",
   "metadata": {},
   "outputs": [],
   "source": [
    "#Write a Python class to implement pow(x, n)\n",
    "class power:\n",
    "    def __init__(self,base,exponent):\n",
    "        self.base = base\n",
    "        self.exponent = exponent\n",
    "    def calculate_power(self):\n",
    "        if self.exponent == 0:\n",
    "            return 1\n",
    "        else:\n",
    "            result = 1\n",
    "            for i in range(1,self.exponent+1):\n",
    "                result *= self.base\n",
    "            return result\n",
    "            "
   ]
  },
  {
   "cell_type": "code",
   "execution_count": 52,
   "id": "9f0af556",
   "metadata": {},
   "outputs": [
    {
     "data": {
      "text/plain": [
       "15625"
      ]
     },
     "execution_count": 52,
     "metadata": {},
     "output_type": "execute_result"
    }
   ],
   "source": [
    "obj = power(25,3)\n",
    "obj.calculate_power()"
   ]
  },
  {
   "cell_type": "code",
   "execution_count": null,
   "id": "63330f09",
   "metadata": {},
   "outputs": [],
   "source": []
  }
 ],
 "metadata": {
  "kernelspec": {
   "display_name": "Python 3",
   "language": "python",
   "name": "python3"
  },
  "language_info": {
   "codemirror_mode": {
    "name": "ipython",
    "version": 3
   },
   "file_extension": ".py",
   "mimetype": "text/x-python",
   "name": "python",
   "nbconvert_exporter": "python",
   "pygments_lexer": "ipython3",
   "version": "3.8.8"
  }
 },
 "nbformat": 4,
 "nbformat_minor": 5
}
